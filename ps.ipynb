{
 "cells": [
  {
   "cell_type": "code",
   "execution_count": 1,
   "id": "e9ac33af",
   "metadata": {},
   "outputs": [],
   "source": [
    "import pyspark\n",
    "from pyspark.sql import SparkSession"
   ]
  },
  {
   "cell_type": "code",
   "execution_count": 2,
   "id": "4f82c2f6",
   "metadata": {},
   "outputs": [],
   "source": [
    "spark = SparkSession.builder\\\n",
    "    .appName('Hello Spark 2025')\\\n",
    "    .getOrCreate()"
   ]
  },
  {
   "cell_type": "code",
   "execution_count": 3,
   "id": "02728d82",
   "metadata": {},
   "outputs": [
    {
     "name": "stdout",
     "output_type": "stream",
     "text": [
      "+-----+---+\n",
      "| name|age|\n",
      "+-----+---+\n",
      "|Alice| 20|\n",
      "|  Bob| 30|\n",
      "+-----+---+\n",
      "\n"
     ]
    }
   ],
   "source": [
    "data = [(\"Alice\",20), (\"Bob\",30)]\n",
    "df = spark.createDataFrame(data,[\"name\",\"age\"])\n",
    "df.show()"
   ]
  },
  {
   "cell_type": "code",
   "execution_count": 4,
   "id": "7c093bbf",
   "metadata": {},
   "outputs": [
    {
     "name": "stdout",
     "output_type": "stream",
     "text": [
      "+---+--------+--------------------+----------------+----------+--------------+--------------------+\n",
      "|_c0|order_id|             product|quantity_ordered|price_each|    order_date|    purchase_address|\n",
      "+---+--------+--------------------+----------------+----------+--------------+--------------------+\n",
      "|  0|  141234|              iPhone|               1|     700.0|01/22/19 21:25|944 Walnut St, Bo...|\n",
      "|  1|  141235|Lightning Chargin...|               1|     14.95|01/28/19 14:15|185 Maple St, Por...|\n",
      "|  2|  141236|    Wired Headphones|               2|     11.99|01/17/19 13:33|538 Adams St, San...|\n",
      "|  3|  141237|    27in FHD Monitor|               1|    149.99|01/05/19 20:33|738 10th St, Los ...|\n",
      "|  4|  141238|    Wired Headphones|               1|     11.99|01/25/19 11:59|387 10th St, Aust...|\n",
      "|  5|  141239|AAA Batteries (4-...|               1|      2.99|01/29/19 20:22|775 Willow St, Sa...|\n",
      "|  6|  141240|27in 4K Gaming Mo...|               1|    389.99|01/26/19 12:16|979 Park St, Los ...|\n",
      "|  7|  141241|USB-C Charging Cable|               1|     11.95|01/05/19 12:04|181 6th St, San F...|\n",
      "|  8|  141242|Bose SoundSport H...|               1|     99.99|01/01/19 10:30|867 Willow St, Lo...|\n",
      "|  9|  141243|Apple Airpods Hea...|               1|     150.0|01/22/19 21:20|657 Johnson St, S...|\n",
      "| 10|  141244|Apple Airpods Hea...|               1|     150.0|01/07/19 11:29|492 Walnut St, Sa...|\n",
      "| 11|  141245|  Macbook Pro Laptop|               1|    1700.0|01/31/19 10:12|322 6th St, San F...|\n",
      "| 12|  141246|AAA Batteries (4-...|               3|      2.99|01/09/19 18:57|618 7th St, Los A...|\n",
      "| 13|  141247|    27in FHD Monitor|               1|    149.99|01/25/19 19:19|512 Wilson St, Sa...|\n",
      "| 14|  141248|       Flatscreen TV|               1|     300.0|01/03/19 21:54|363 Spruce St, Au...|\n",
      "| 15|  141249|    27in FHD Monitor|               1|    149.99|01/05/19 17:20|440 Cedar St, Por...|\n",
      "| 16|  141250|     Vareebadd Phone|               1|     400.0|01/10/19 11:20|471 Center St, Lo...|\n",
      "| 17|  141251|Apple Airpods Hea...|               1|     150.0|01/24/19 08:13|414 Walnut St, Bo...|\n",
      "| 18|  141252|USB-C Charging Cable|               1|     11.95|01/30/19 09:28|220 9th St, Los A...|\n",
      "| 19|  141253|AA Batteries (4-p...|               1|      3.84|01/17/19 00:09|385 11th St, Atla...|\n",
      "+---+--------+--------------------+----------------+----------+--------------+--------------------+\n",
      "only showing top 20 rows\n",
      "\n"
     ]
    }
   ],
   "source": [
    "df = spark.read.format(\"csv\").option(\"header\",\"true\").option(\"inferSchema\",\"true\")\\\n",
    "        .load(\"sales.csv\")\n",
    "df.show()"
   ]
  },
  {
   "cell_type": "code",
   "execution_count": 5,
   "id": "17f6e99e",
   "metadata": {},
   "outputs": [
    {
     "name": "stdout",
     "output_type": "stream",
     "text": [
      "root\n",
      " |-- _c0: integer (nullable = true)\n",
      " |-- order_id: integer (nullable = true)\n",
      " |-- product: string (nullable = true)\n",
      " |-- quantity_ordered: integer (nullable = true)\n",
      " |-- price_each: double (nullable = true)\n",
      " |-- order_date: string (nullable = true)\n",
      " |-- purchase_address: string (nullable = true)\n",
      "\n"
     ]
    }
   ],
   "source": [
    "df.printSchema()"
   ]
  },
  {
   "cell_type": "code",
   "execution_count": 6,
   "id": "f5bc5e80",
   "metadata": {},
   "outputs": [
    {
     "name": "stdout",
     "output_type": "stream",
     "text": [
      "+---+--------+--------------------+----------------+----------+--------------+--------------------+\n",
      "|_c0|order_id|             product|quantity_ordered|price_each|    order_date|    purchase_address|\n",
      "+---+--------+--------------------+----------------+----------+--------------+--------------------+\n",
      "|  2|  141236|    Wired Headphones|               2|     11.99|01/17/19 13:33|538 Adams St, San...|\n",
      "| 12|  141246|AAA Batteries (4-...|               3|      2.99|01/09/19 18:57|618 7th St, Los A...|\n",
      "| 25|  141259|AAA Batteries (4-...|               2|      2.99|01/20/19 17:26|920 Adams St, San...|\n",
      "| 39|  141273|    Wired Headphones|               2|     11.99|01/29/19 12:04|994 13th St, Bost...|\n",
      "| 52|  141285|AAA Batteries (4-...|               3|      2.99|01/14/19 14:13|447 Cedar St, Sea...|\n",
      "| 58|  141290|AA Batteries (4-p...|               3|      3.84|01/02/19 08:25|4 1st St, Los Ang...|\n",
      "| 70|  141302|AAA Batteries (4-...|               2|      2.99|01/18/19 20:12|90 14th St, Portl...|\n",
      "| 73|  141305|AAA Batteries (4-...|               3|      2.99|01/27/19 16:51|756 Wilson St, Au...|\n",
      "| 77|  141309|AAA Batteries (4-...|               2|      2.99|01/20/19 07:02|423 Elm St, San F...|\n",
      "| 84|  141316|AAA Batteries (4-...|               3|      2.99|01/01/19 07:26|235 South St, Sea...|\n",
      "| 90|  141322|AAA Batteries (4-...|               2|      2.99|01/12/19 21:56|816 Lake St, Bost...|\n",
      "|103|  141335|AAA Batteries (4-...|               5|      2.99|01/12/19 18:16|174 4th St, Los A...|\n",
      "|116|  141348|USB-C Charging Cable|               2|     11.95|01/26/19 18:56|493 5th St, Portl...|\n",
      "|119|  141351|USB-C Charging Cable|               2|     11.95|01/24/19 17:02|865 Church St, Sa...|\n",
      "|127|  141359|AAA Batteries (4-...|               2|      2.99|01/09/19 22:21|383 11th St, Seat...|\n",
      "|129|  141361|Apple Airpods Hea...|               2|     150.0|01/23/19 15:39|181 Lakeview St, ...|\n",
      "|139|  141370|AAA Batteries (4-...|               2|      2.99|01/24/19 20:53|375 Center St, Se...|\n",
      "|182|  141412|AA Batteries (4-p...|               2|      3.84|01/14/19 17:16|397 Dogwood St, A...|\n",
      "|190|  141420|Lightning Chargin...|               2|     14.95|01/09/19 12:19|74 7th St, San Fr...|\n",
      "|193|  141423|Lightning Chargin...|               2|     14.95|01/06/19 13:41|440 South St, New...|\n",
      "+---+--------+--------------------+----------------+----------+--------------+--------------------+\n",
      "only showing top 20 rows\n",
      "\n"
     ]
    }
   ],
   "source": [
    "df.filter(df['quantity_ordered'] > 1).show()"
   ]
  },
  {
   "cell_type": "code",
   "execution_count": 7,
   "id": "4bd881f6",
   "metadata": {},
   "outputs": [
    {
     "name": "stdout",
     "output_type": "stream",
     "text": [
      "+---+--------+--------------------+----------------+----------+--------------+--------------------+\n",
      "|_c0|order_id|             product|quantity_ordered|price_each|    order_date|    purchase_address|\n",
      "+---+--------+--------------------+----------------+----------+--------------+--------------------+\n",
      "|  2|  141236|    Wired Headphones|               2|     11.99|01/17/19 13:33|538 Adams St, San...|\n",
      "| 12|  141246|AAA Batteries (4-...|               3|      2.99|01/09/19 18:57|618 7th St, Los A...|\n",
      "| 25|  141259|AAA Batteries (4-...|               2|      2.99|01/20/19 17:26|920 Adams St, San...|\n",
      "| 39|  141273|    Wired Headphones|               2|     11.99|01/29/19 12:04|994 13th St, Bost...|\n",
      "| 52|  141285|AAA Batteries (4-...|               3|      2.99|01/14/19 14:13|447 Cedar St, Sea...|\n",
      "| 58|  141290|AA Batteries (4-p...|               3|      3.84|01/02/19 08:25|4 1st St, Los Ang...|\n",
      "| 70|  141302|AAA Batteries (4-...|               2|      2.99|01/18/19 20:12|90 14th St, Portl...|\n",
      "| 73|  141305|AAA Batteries (4-...|               3|      2.99|01/27/19 16:51|756 Wilson St, Au...|\n",
      "| 77|  141309|AAA Batteries (4-...|               2|      2.99|01/20/19 07:02|423 Elm St, San F...|\n",
      "| 84|  141316|AAA Batteries (4-...|               3|      2.99|01/01/19 07:26|235 South St, Sea...|\n",
      "| 90|  141322|AAA Batteries (4-...|               2|      2.99|01/12/19 21:56|816 Lake St, Bost...|\n",
      "|103|  141335|AAA Batteries (4-...|               5|      2.99|01/12/19 18:16|174 4th St, Los A...|\n",
      "|116|  141348|USB-C Charging Cable|               2|     11.95|01/26/19 18:56|493 5th St, Portl...|\n",
      "|119|  141351|USB-C Charging Cable|               2|     11.95|01/24/19 17:02|865 Church St, Sa...|\n",
      "|127|  141359|AAA Batteries (4-...|               2|      2.99|01/09/19 22:21|383 11th St, Seat...|\n",
      "|129|  141361|Apple Airpods Hea...|               2|     150.0|01/23/19 15:39|181 Lakeview St, ...|\n",
      "|139|  141370|AAA Batteries (4-...|               2|      2.99|01/24/19 20:53|375 Center St, Se...|\n",
      "|182|  141412|AA Batteries (4-p...|               2|      3.84|01/14/19 17:16|397 Dogwood St, A...|\n",
      "|190|  141420|Lightning Chargin...|               2|     14.95|01/09/19 12:19|74 7th St, San Fr...|\n",
      "|193|  141423|Lightning Chargin...|               2|     14.95|01/06/19 13:41|440 South St, New...|\n",
      "+---+--------+--------------------+----------------+----------+--------------+--------------------+\n",
      "only showing top 20 rows\n",
      "\n"
     ]
    }
   ],
   "source": [
    "df.where(\"quantity_ordered > 1\").show()"
   ]
  },
  {
   "cell_type": "code",
   "execution_count": 8,
   "id": "ce74d6d7",
   "metadata": {},
   "outputs": [
    {
     "name": "stdout",
     "output_type": "stream",
     "text": [
      "+-------+-----------------+-----------------+------------+------------------+------------------+--------------+--------------------+\n",
      "|summary|              _c0|         order_id|     product|  quantity_ordered|        price_each|    order_date|    purchase_address|\n",
      "+-------+-----------------+-----------------+------------+------------------+------------------+--------------+--------------------+\n",
      "|  count|           186495|           185950|      185950|            185950|            185950|        185950|              185950|\n",
      "|   mean|93424.21569479075|230417.5693788653|        NULL|1.1243828986286637|184.39973476749685|          NULL|                NULL|\n",
      "| stddev|53939.34551248686|51512.73710999567|        NULL|0.4427926240286688|332.73132988434435|          NULL|                NULL|\n",
      "|    min|                0|           141234|20in Monitor|                 1|              2.99|01/01/19 03:07|1 11th St, Atlant...|\n",
      "|    max|           186849|           319670|      iPhone|                 9|            1700.0|12/31/19 23:53|999 Wilson St, Sa...|\n",
      "+-------+-----------------+-----------------+------------+------------------+------------------+--------------+--------------------+\n",
      "\n"
     ]
    }
   ],
   "source": [
    "df.describe().show()"
   ]
  },
  {
   "cell_type": "code",
   "execution_count": 9,
   "id": "c59c3fec",
   "metadata": {},
   "outputs": [
    {
     "name": "stdout",
     "output_type": "stream",
     "text": [
      "+-------+-----------------+-----------------+------------+------------------+------------------+--------------+--------------------+\n",
      "|summary|              _c0|         order_id|     product|  quantity_ordered|        price_each|    order_date|    purchase_address|\n",
      "+-------+-----------------+-----------------+------------+------------------+------------------+--------------+--------------------+\n",
      "|  count|           186495|           185950|      185950|            185950|            185950|        185950|              185950|\n",
      "|   mean|93424.21569479075|230417.5693788653|        NULL|1.1243828986286637|184.39973476749685|          NULL|                NULL|\n",
      "| stddev|53939.34551248686|51512.73710999567|        NULL|0.4427926240286688|332.73132988434435|          NULL|                NULL|\n",
      "|    min|                0|           141234|20in Monitor|                 1|              2.99|01/01/19 03:07|1 11th St, Atlant...|\n",
      "|    25%|            46694|           185834|        NULL|                 1|             11.95|          NULL|                NULL|\n",
      "|    50%|            93418|           230350|        NULL|                 1|             14.95|          NULL|                NULL|\n",
      "|    75%|           140118|           275039|        NULL|                 1|             150.0|          NULL|                NULL|\n",
      "|    max|           186849|           319670|      iPhone|                 9|            1700.0|12/31/19 23:53|999 Wilson St, Sa...|\n",
      "+-------+-----------------+-----------------+------------+------------------+------------------+--------------+--------------------+\n",
      "\n"
     ]
    }
   ],
   "source": [
    "df.summary().show()"
   ]
  },
  {
   "cell_type": "code",
   "execution_count": 10,
   "id": "15584435",
   "metadata": {},
   "outputs": [
    {
     "data": {
      "text/plain": [
       "[Row(_c0=0, order_id=141234, product='iPhone', quantity_ordered=1, price_each=700.0, order_date='01/22/19 21:25', purchase_address='944 Walnut St, Boston, MA 02215'),\n",
       " Row(_c0=1, order_id=141235, product='Lightning Charging Cable', quantity_ordered=1, price_each=14.95, order_date='01/28/19 14:15', purchase_address='185 Maple St, Portland, OR 97035'),\n",
       " Row(_c0=2, order_id=141236, product='Wired Headphones', quantity_ordered=2, price_each=11.99, order_date='01/17/19 13:33', purchase_address='538 Adams St, San Francisco, CA 94016'),\n",
       " Row(_c0=3, order_id=141237, product='27in FHD Monitor', quantity_ordered=1, price_each=149.99, order_date='01/05/19 20:33', purchase_address='738 10th St, Los Angeles, CA 90001'),\n",
       " Row(_c0=4, order_id=141238, product='Wired Headphones', quantity_ordered=1, price_each=11.99, order_date='01/25/19 11:59', purchase_address='387 10th St, Austin, TX 73301')]"
      ]
     },
     "execution_count": 10,
     "metadata": {},
     "output_type": "execute_result"
    }
   ],
   "source": [
    "df.head(5)"
   ]
  },
  {
   "cell_type": "code",
   "execution_count": 11,
   "id": "7529269f",
   "metadata": {},
   "outputs": [
    {
     "name": "stdout",
     "output_type": "stream",
     "text": [
      "+--------+--------------------+\n",
      "|order_id|             product|\n",
      "+--------+--------------------+\n",
      "|  141234|              iPhone|\n",
      "|  141235|Lightning Chargin...|\n",
      "|  141236|    Wired Headphones|\n",
      "|  141237|    27in FHD Monitor|\n",
      "|  141238|    Wired Headphones|\n",
      "|  141239|AAA Batteries (4-...|\n",
      "|  141240|27in 4K Gaming Mo...|\n",
      "|  141241|USB-C Charging Cable|\n",
      "|  141242|Bose SoundSport H...|\n",
      "|  141243|Apple Airpods Hea...|\n",
      "|  141244|Apple Airpods Hea...|\n",
      "|  141245|  Macbook Pro Laptop|\n",
      "|  141246|AAA Batteries (4-...|\n",
      "|  141247|    27in FHD Monitor|\n",
      "|  141248|       Flatscreen TV|\n",
      "|  141249|    27in FHD Monitor|\n",
      "|  141250|     Vareebadd Phone|\n",
      "|  141251|Apple Airpods Hea...|\n",
      "|  141252|USB-C Charging Cable|\n",
      "|  141253|AA Batteries (4-p...|\n",
      "+--------+--------------------+\n",
      "only showing top 20 rows\n",
      "\n"
     ]
    }
   ],
   "source": [
    "df.select('order_id','product').show()"
   ]
  },
  {
   "cell_type": "code",
   "execution_count": 12,
   "id": "b8ee5e65",
   "metadata": {},
   "outputs": [
    {
     "name": "stdout",
     "output_type": "stream",
     "text": [
      "+--------+--------------------+\n",
      "|order_id|        product_name|\n",
      "+--------+--------------------+\n",
      "|  141234|              iPhone|\n",
      "|  141235|Lightning Chargin...|\n",
      "|  141236|    Wired Headphones|\n",
      "|  141237|    27in FHD Monitor|\n",
      "|  141238|    Wired Headphones|\n",
      "|  141239|AAA Batteries (4-...|\n",
      "|  141240|27in 4K Gaming Mo...|\n",
      "|  141241|USB-C Charging Cable|\n",
      "|  141242|Bose SoundSport H...|\n",
      "|  141243|Apple Airpods Hea...|\n",
      "|  141244|Apple Airpods Hea...|\n",
      "|  141245|  Macbook Pro Laptop|\n",
      "|  141246|AAA Batteries (4-...|\n",
      "|  141247|    27in FHD Monitor|\n",
      "|  141248|       Flatscreen TV|\n",
      "|  141249|    27in FHD Monitor|\n",
      "|  141250|     Vareebadd Phone|\n",
      "|  141251|Apple Airpods Hea...|\n",
      "|  141252|USB-C Charging Cable|\n",
      "|  141253|AA Batteries (4-p...|\n",
      "+--------+--------------------+\n",
      "only showing top 20 rows\n",
      "\n"
     ]
    }
   ],
   "source": [
    "df.select(df['order_id'],df['product'].alias('product_name')).show()"
   ]
  },
  {
   "cell_type": "code",
   "execution_count": 13,
   "id": "cadeeb83",
   "metadata": {},
   "outputs": [],
   "source": [
    "from pyspark.sql.functions import *\n",
    "df = df.withColumn(\"total_sales\", col('quantity_ordered')* col('price_each'))"
   ]
  },
  {
   "cell_type": "code",
   "execution_count": 14,
   "id": "0883ea47",
   "metadata": {},
   "outputs": [
    {
     "name": "stdout",
     "output_type": "stream",
     "text": [
      "+---+--------+--------------------+----------------+----------+--------------+--------------------+-----------+\n",
      "|_c0|order_id|             product|quantity_ordered|price_each|    order_date|    purchase_address|total_sales|\n",
      "+---+--------+--------------------+----------------+----------+--------------+--------------------+-----------+\n",
      "|  0|  141234|              iPhone|               1|     700.0|01/22/19 21:25|944 Walnut St, Bo...|      700.0|\n",
      "|  1|  141235|Lightning Chargin...|               1|     14.95|01/28/19 14:15|185 Maple St, Por...|      14.95|\n",
      "|  2|  141236|    Wired Headphones|               2|     11.99|01/17/19 13:33|538 Adams St, San...|      23.98|\n",
      "|  3|  141237|    27in FHD Monitor|               1|    149.99|01/05/19 20:33|738 10th St, Los ...|     149.99|\n",
      "|  4|  141238|    Wired Headphones|               1|     11.99|01/25/19 11:59|387 10th St, Aust...|      11.99|\n",
      "|  5|  141239|AAA Batteries (4-...|               1|      2.99|01/29/19 20:22|775 Willow St, Sa...|       2.99|\n",
      "|  6|  141240|27in 4K Gaming Mo...|               1|    389.99|01/26/19 12:16|979 Park St, Los ...|     389.99|\n",
      "|  7|  141241|USB-C Charging Cable|               1|     11.95|01/05/19 12:04|181 6th St, San F...|      11.95|\n",
      "|  8|  141242|Bose SoundSport H...|               1|     99.99|01/01/19 10:30|867 Willow St, Lo...|      99.99|\n",
      "|  9|  141243|Apple Airpods Hea...|               1|     150.0|01/22/19 21:20|657 Johnson St, S...|      150.0|\n",
      "| 10|  141244|Apple Airpods Hea...|               1|     150.0|01/07/19 11:29|492 Walnut St, Sa...|      150.0|\n",
      "| 11|  141245|  Macbook Pro Laptop|               1|    1700.0|01/31/19 10:12|322 6th St, San F...|     1700.0|\n",
      "| 12|  141246|AAA Batteries (4-...|               3|      2.99|01/09/19 18:57|618 7th St, Los A...|       8.97|\n",
      "| 13|  141247|    27in FHD Monitor|               1|    149.99|01/25/19 19:19|512 Wilson St, Sa...|     149.99|\n",
      "| 14|  141248|       Flatscreen TV|               1|     300.0|01/03/19 21:54|363 Spruce St, Au...|      300.0|\n",
      "| 15|  141249|    27in FHD Monitor|               1|    149.99|01/05/19 17:20|440 Cedar St, Por...|     149.99|\n",
      "| 16|  141250|     Vareebadd Phone|               1|     400.0|01/10/19 11:20|471 Center St, Lo...|      400.0|\n",
      "| 17|  141251|Apple Airpods Hea...|               1|     150.0|01/24/19 08:13|414 Walnut St, Bo...|      150.0|\n",
      "| 18|  141252|USB-C Charging Cable|               1|     11.95|01/30/19 09:28|220 9th St, Los A...|      11.95|\n",
      "| 19|  141253|AA Batteries (4-p...|               1|      3.84|01/17/19 00:09|385 11th St, Atla...|       3.84|\n",
      "+---+--------+--------------------+----------------+----------+--------------+--------------------+-----------+\n",
      "only showing top 20 rows\n",
      "\n"
     ]
    }
   ],
   "source": [
    "df.show()"
   ]
  },
  {
   "cell_type": "code",
   "execution_count": 15,
   "id": "928c9f42",
   "metadata": {},
   "outputs": [
    {
     "data": {
      "text/plain": [
       "DataFrame[_c0: int, order_id: int, product: string, quantity_ordered: int, price_each: double, order_date: string, purchase_address: string, total_sales: double]"
      ]
     },
     "execution_count": 15,
     "metadata": {},
     "output_type": "execute_result"
    }
   ],
   "source": [
    "df.orderBy(df['total_sales'].desc())"
   ]
  },
  {
   "cell_type": "code",
   "execution_count": null,
   "id": "77ec225b",
   "metadata": {},
   "outputs": [
    {
     "name": "stdout",
     "output_type": "stream",
     "text": [
      "+--------------------+-----+\n",
      "|             product|count|\n",
      "+--------------------+-----+\n",
      "|    Wired Headphones|18882|\n",
      "|  Macbook Pro Laptop| 4724|\n",
      "|Apple Airpods Hea...|15549|\n",
      "|              iPhone| 6842|\n",
      "|                NULL|  545|\n",
      "|Lightning Chargin...|21658|\n",
      "|Bose SoundSport H...|13325|\n",
      "|USB-C Charging Cable|21903|\n",
      "|AAA Batteries (4-...|20641|\n",
      "|        20in Monitor| 4101|\n",
      "|    27in FHD Monitor| 7507|\n",
      "|     Vareebadd Phone| 2065|\n",
      "|34in Ultrawide Mo...| 6181|\n",
      "|            LG Dryer|  646|\n",
      "|AA Batteries (4-p...|20577|\n",
      "|        Google Phone| 5525|\n",
      "|       Flatscreen TV| 4800|\n",
      "|  LG Washing Machine|  666|\n",
      "|27in 4K Gaming Mo...| 6230|\n",
      "|     ThinkPad Laptop| 4128|\n",
      "+--------------------+-----+\n",
      "\n"
     ]
    }
   ],
   "source": [
    "# Group by\n",
    "df.groupBy(df['product']).count().show()"
   ]
  },
  {
   "cell_type": "code",
   "execution_count": 24,
   "id": "72f25e64",
   "metadata": {},
   "outputs": [
    {
     "name": "stdout",
     "output_type": "stream",
     "text": [
      "+--------------------+---------------------+------------------+\n",
      "|             product|avg(quantity_ordered)|  sum(total_sales)|\n",
      "+--------------------+---------------------+------------------+\n",
      "|    Wired Headphones|   1.0887088232178794|246478.42999999324|\n",
      "|  Macbook Pro Laptop|   1.0008467400508043|         8037600.0|\n",
      "|Apple Airpods Hea...|   1.0072030355649881|         2349150.0|\n",
      "|              iPhone|    1.001023092662964|         4794300.0|\n",
      "|                NULL|                 NULL|              NULL|\n",
      "|Lightning Chargin...|     1.07198263920953| 347094.1499999697|\n",
      "|Bose SoundSport H...|    1.009906191369606|1345565.4299999422|\n",
      "|USB-C Charging Cable|   1.0945989133908598|286501.24999997736|\n",
      "|AAA Batteries (4-...|   1.5026888232159294| 92740.83000000194|\n",
      "|        20in Monitor|   1.0068276030236527| 454148.7100000065|\n",
      "|    27in FHD Monitor|   1.0057279872119356|1132424.4999999737|\n",
      "|     Vareebadd Phone|    1.001452784503632|          827200.0|\n",
      "|34in Ultrawide Mo...|   1.0029121501375182| 2355558.009999961|\n",
      "|            LG Dryer|                  1.0|          387600.0|\n",
      "|AA Batteries (4-p...|    1.343004325217476|106118.40000000328|\n",
      "|        Google Phone|   1.0012669683257918|         3319200.0|\n",
      "|       Flatscreen TV|   1.0039583333333333|         1445700.0|\n",
      "|  LG Washing Machine|                  1.0|          399600.0|\n",
      "|27in 4K Gaming Mo...|    1.002247191011236| 2435097.559999961|\n",
      "|     ThinkPad Laptop|    1.000484496124031| 4129958.699999969|\n",
      "+--------------------+---------------------+------------------+\n",
      "\n"
     ]
    }
   ],
   "source": [
    "df.groupBy(\"product\").agg({\"total_sales\": \"sum\", \"quantity_ordered\": \"avg\"}).show()"
   ]
  },
  {
   "cell_type": "code",
   "execution_count": null,
   "id": "242e31f5",
   "metadata": {},
   "outputs": [],
   "source": []
  },
  {
   "cell_type": "code",
   "execution_count": null,
   "id": "dffac0fd",
   "metadata": {},
   "outputs": [],
   "source": []
  },
  {
   "cell_type": "code",
   "execution_count": null,
   "id": "2025e192",
   "metadata": {},
   "outputs": [],
   "source": []
  },
  {
   "cell_type": "code",
   "execution_count": null,
   "id": "034de9c3",
   "metadata": {},
   "outputs": [],
   "source": []
  },
  {
   "cell_type": "code",
   "execution_count": null,
   "id": "88f6fca7",
   "metadata": {},
   "outputs": [],
   "source": []
  },
  {
   "cell_type": "code",
   "execution_count": null,
   "id": "234f6349",
   "metadata": {},
   "outputs": [],
   "source": []
  },
  {
   "cell_type": "code",
   "execution_count": null,
   "id": "27827442",
   "metadata": {},
   "outputs": [],
   "source": []
  },
  {
   "cell_type": "code",
   "execution_count": null,
   "id": "67736317",
   "metadata": {},
   "outputs": [],
   "source": []
  }
 ],
 "metadata": {
  "kernelspec": {
   "display_name": "Python 3",
   "language": "python",
   "name": "python3"
  },
  "language_info": {
   "codemirror_mode": {
    "name": "ipython",
    "version": 3
   },
   "file_extension": ".py",
   "mimetype": "text/x-python",
   "name": "python",
   "nbconvert_exporter": "python",
   "pygments_lexer": "ipython3",
   "version": "3.10.0"
  }
 },
 "nbformat": 4,
 "nbformat_minor": 5
}
